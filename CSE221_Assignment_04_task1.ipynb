{
 "cells": [
  {
   "cell_type": "code",
   "execution_count": 1,
   "id": "03c1e476",
   "metadata": {},
   "outputs": [
    {
     "name": "stdout",
     "output_type": "stream",
     "text": [
      "['5', '3 2 1 4 5']\n"
     ]
    }
   ],
   "source": [
    "#Task_01\n",
    "f= open(\"C:\\\\Users\\\\sanza\\\\Downloads\\\\input.txt\", mode='r')\n",
    "f1=open('C:\\\\Files\\\\output\\\\output_01.txt', mode='w')\n",
    "lines= f.read().split('\\n')\n",
    "print(lines)\n",
    "n=int(lines[0])\n",
    "x=lines[1]\n",
    "#print(x)\n",
    "arr=[]\n",
    "for i in range(n):\n",
    "    arr.append(1+i)\n",
    "#print(arr)\n",
    "    \n",
    "def bubbleSort(arr):\n",
    "    k=len(arr)\n",
    "    for i in range(k-1):\n",
    "        for j in range(k-i-1): \n",
    "            if arr[j] > arr[j+1]:\n",
    "                arr[j],arr[j+1]=arr[j+1], arr[j]\n",
    "    return arr\n",
    "          \n",
    "\n",
    "\n",
    "\n",
    "\n",
    "#arr=[3,2,1,4,5]\n",
    "bubbleSort(arr)\n",
    "\n",
    "for l in range(1,len(arr)+1):\n",
    "    f1.write(str(l)+'\\t')\n",
    "    \n",
    "f.close()\n",
    "f1.close()"
   ]
  }
 ],
 "metadata": {
  "kernelspec": {
   "display_name": "Python 3 (ipykernel)",
   "language": "python",
   "name": "python3"
  },
  "language_info": {
   "codemirror_mode": {
    "name": "ipython",
    "version": 3
   },
   "file_extension": ".py",
   "mimetype": "text/x-python",
   "name": "python",
   "nbconvert_exporter": "python",
   "pygments_lexer": "ipython3",
   "version": "3.9.7"
  }
 },
 "nbformat": 4,
 "nbformat_minor": 5
}
